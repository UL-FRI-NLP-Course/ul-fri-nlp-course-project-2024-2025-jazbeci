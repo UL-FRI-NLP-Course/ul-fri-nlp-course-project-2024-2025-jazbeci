{
  "cells": [
    {
      "cell_type": "code",
      "execution_count": 9,
      "metadata": {
        "colab": {
          "base_uri": "https://localhost:8080/"
        },
        "id": "im1hgI2v2sb9",
        "outputId": "8d046ba5-e039-43de-d5c8-1dab97d7d94f"
      },
      "outputs": [
        {
          "name": "stdout",
          "output_type": "stream",
          "text": [
            "dict_keys(['2022', '2023', '2024'])\n"
          ]
        }
      ],
      "source": [
        "import pandas as pd\n",
        "\n",
        "# Reading multiple sheets from an Excel file\n",
        "sheets_dict = pd.read_excel('./RTVSlo/Podatki - PrometnoPorocilo_2022_2023_2024.xlsx', engine=\"openpyxl\", sheet_name=None)\n",
        "print(sheets_dict.keys()) #prints keys"
      ]
    },
    {
      "cell_type": "code",
      "execution_count": 10,
      "metadata": {
        "colab": {
          "base_uri": "https://localhost:8080/"
        },
        "id": "i2lBAzVu9JjI",
        "outputId": "78019ad5-a2fa-41ee-8bef-094e89c9e208"
      },
      "outputs": [
        {
          "name": "stdout",
          "output_type": "stream",
          "text": [
            "Index(['LegacyId', 'Datum', 'Operater', 'A1', 'B1', 'C1', 'A2', 'B2', 'C2',\n",
            "       'TitlePomembnoSLO', 'ContentPomembnoSLO', 'TitleNesreceSLO',\n",
            "       'ContentNesreceSLO', 'TitleZastojiSLO', 'ContentZastojiSLO',\n",
            "       'TitleVremeSLO', 'ContentVremeSLO', 'TitleOvireSLO', 'ContentOvireSLO',\n",
            "       'TitleDeloNaCestiSLO', 'ContentDeloNaCestiSLO', 'TitleOpozorilaSLO',\n",
            "       'ContentOpozorilaSLO', 'TitleMednarodneInformacijeSLO',\n",
            "       'ContentMednarodneInformacijeSLO', 'TitleSplosnoSLO',\n",
            "       'ContentSplosnoSLO'],\n",
            "      dtype='object')\n"
          ]
        }
      ],
      "source": [
        "# Accessing a specific sheet by name\n",
        "sheet2022 = sheets_dict['2022'] # pandas dataframe\n",
        "sheet2023 = sheets_dict['2023']\n",
        "sheet2024 = sheets_dict['2024']\n",
        "\n",
        "print(sheet2022.columns)"
      ]
    },
    {
      "cell_type": "markdown",
      "metadata": {
        "id": "uUos9sl8_PAj"
      },
      "source": [
        "## pomen stolpcev\n",
        "- `LegacyId`: id vnosa, not important\n",
        "- `Datum`: v obliki `2022-01-01 00:07:07`\n",
        "- `Operater`: v obliki `DARS Tjaša Krmac, GNC`, idk a je to pomembno\n",
        "- `A1`: \"Pozor!\" + tisto kar je v stolpcu `ContentPomembnoSLO`\n",
        "- `B1`: basically celotna vsebina, vrstice ki nimajo tega lahko odstranimo\n",
        "- `C1`: vedno prazen, idk zakaj je sploh tm\n",
        "- `A2`: vsebina v angleščini, ki se ponovi v naslednjih vrsticah v `B2`\n",
        "- `B2`: \n",
        "\n"
      ]
    },
    {
      "cell_type": "code",
      "execution_count": 1,
      "metadata": {
        "colab": {
          "base_uri": "https://localhost:8080/"
        },
        "id": "kPC2PXIs-ozS",
        "outputId": "7ad7c201-11d2-4060-82ad-20b50801ddc5"
      },
      "outputs": [
        {
          "ename": "NameError",
          "evalue": "name 'sheet2022' is not defined",
          "output_type": "error",
          "traceback": [
            "\u001b[31m---------------------------------------------------------------------------\u001b[39m",
            "\u001b[31mNameError\u001b[39m                                 Traceback (most recent call last)",
            "\u001b[36mCell\u001b[39m\u001b[36m \u001b[39m\u001b[32mIn[1]\u001b[39m\u001b[32m, line 1\u001b[39m\n\u001b[32m----> \u001b[39m\u001b[32m1\u001b[39m \u001b[38;5;28mprint\u001b[39m(\u001b[43msheet2022\u001b[49m.loc[\u001b[32m0\u001b[39m, \u001b[33m'\u001b[39m\u001b[33mB1\u001b[39m\u001b[33m'\u001b[39m])\n",
            "\u001b[31mNameError\u001b[39m: name 'sheet2022' is not defined"
          ]
        }
      ],
      "source": [
        "print(sheet2022.loc[0, 'B1'])"
      ]
    },
    {
      "cell_type": "code",
      "execution_count": null,
      "metadata": {
        "colab": {
          "base_uri": "https://localhost:8080/"
        },
        "id": "9nsu7xTREr8a",
        "outputId": "a5cee64a-68af-466a-bc7c-3b1dfb466f81"
      },
      "outputs": [
        {
          "name": "stdout",
          "output_type": "stream",
          "text": [
            "LegacyId                               0\n",
            "Datum                                  0\n",
            "Operater                               0\n",
            "A1                                 49404\n",
            "B1                                     3\n",
            "C1                                 55001\n",
            "A2                                 54999\n",
            "B2                                 54676\n",
            "C2                                 12966\n",
            "TitlePomembnoSLO                   54920\n",
            "ContentPomembnoSLO                 49404\n",
            "TitleNesreceSLO                    54369\n",
            "ContentNesreceSLO                  31384\n",
            "TitleZastojiSLO                    53752\n",
            "ContentZastojiSLO                  21650\n",
            "TitleVremeSLO                      46051\n",
            "ContentVremeSLO                    37447\n",
            "TitleOvireSLO                      52630\n",
            "ContentOvireSLO                    23191\n",
            "TitleDeloNaCestiSLO                42471\n",
            "ContentDeloNaCestiSLO               3239\n",
            "TitleOpozorilaSLO                  39184\n",
            "ContentOpozorilaSLO                40536\n",
            "TitleMednarodneInformacijeSLO      46102\n",
            "ContentMednarodneInformacijeSLO    22598\n",
            "TitleSplosnoSLO                    13111\n",
            "ContentSplosnoSLO                  37677\n",
            "dtype: int64\n"
          ]
        }
      ],
      "source": [
        "# count NaN values in each column\n",
        "print(sheet2022.isnull().sum())"
      ]
    },
    {
      "cell_type": "code",
      "execution_count": null,
      "metadata": {
        "colab": {
          "base_uri": "https://localhost:8080/"
        },
        "id": "iZBUi0zVEtWw",
        "outputId": "f4d72faf-d2ac-45fc-8296-be5b4f3064db"
      },
      "outputs": [
        {
          "name": "stdout",
          "output_type": "stream",
          "text": [
            "LegacyId                               0\n",
            "Datum                                  0\n",
            "Operater                               0\n",
            "A1                                 52266\n",
            "B1                                     0\n",
            "C1                                 57094\n",
            "A2                                 57094\n",
            "B2                                  7881\n",
            "C2                                     0\n",
            "TitlePomembnoSLO                   57029\n",
            "ContentPomembnoSLO                 52266\n",
            "TitleNesreceSLO                    56361\n",
            "ContentNesreceSLO                  32008\n",
            "TitleZastojiSLO                    56979\n",
            "ContentZastojiSLO                  20830\n",
            "TitleVremeSLO                      48164\n",
            "ContentVremeSLO                    31873\n",
            "TitleOvireSLO                      56311\n",
            "ContentOvireSLO                    22840\n",
            "TitleDeloNaCestiSLO                57091\n",
            "ContentDeloNaCestiSLO                  0\n",
            "TitleOpozorilaSLO                  30173\n",
            "ContentOpozorilaSLO                40402\n",
            "TitleMednarodneInformacijeSLO      17274\n",
            "ContentMednarodneInformacijeSLO    51324\n",
            "TitleSplosnoSLO                     5110\n",
            "ContentSplosnoSLO                  37928\n",
            "dtype: int64\n"
          ]
        }
      ],
      "source": [
        "# count NaN values in each column\n",
        "print(sheet2023.isnull().sum())"
      ]
    },
    {
      "cell_type": "code",
      "execution_count": null,
      "metadata": {
        "colab": {
          "base_uri": "https://localhost:8080/"
        },
        "id": "ldAD77O1Ew37",
        "outputId": "feb390b2-7d96-4ac9-d3cd-2edb56079611"
      },
      "outputs": [
        {
          "name": "stdout",
          "output_type": "stream",
          "text": [
            "LegacyId                               0\n",
            "Datum                                  0\n",
            "Operater                               0\n",
            "A1                                 54317\n",
            "B1                                     0\n",
            "C1                                 58278\n",
            "A2                                 58278\n",
            "B2                                 58278\n",
            "C2                                     0\n",
            "TitlePomembnoSLO                   58278\n",
            "ContentPomembnoSLO                 54317\n",
            "TitleNesreceSLO                    58278\n",
            "ContentNesreceSLO                  32217\n",
            "TitleZastojiSLO                    57937\n",
            "ContentZastojiSLO                  19445\n",
            "TitleVremeSLO                      56582\n",
            "ContentVremeSLO                    40051\n",
            "TitleOvireSLO                      58088\n",
            "ContentOvireSLO                    21605\n",
            "TitleDeloNaCestiSLO                45987\n",
            "ContentDeloNaCestiSLO                  0\n",
            "TitleOpozorilaSLO                  36879\n",
            "ContentOpozorilaSLO                44395\n",
            "TitleMednarodneInformacijeSLO      24748\n",
            "ContentMednarodneInformacijeSLO    49106\n",
            "TitleSplosnoSLO                     4402\n",
            "ContentSplosnoSLO                  41559\n",
            "dtype: int64\n"
          ]
        }
      ],
      "source": [
        "# count NaN values in each column\n",
        "print(sheet2024.isnull().sum())"
      ]
    },
    {
      "cell_type": "code",
      "execution_count": null,
      "metadata": {
        "colab": {
          "base_uri": "https://localhost:8080/"
        },
        "id": "yaOMarP6PkD5",
        "outputId": "28e9ac85-706c-4f31-88b9-cec6d2a3dd7a"
      },
      "outputs": [
        {
          "name": "stdout",
          "output_type": "stream",
          "text": [
            "LegacyId                           55001\n",
            "Datum                              55001\n",
            "Operater                           55001\n",
            "A1                                  5597\n",
            "B1                                 54998\n",
            "C1                                     0\n",
            "A2                                     2\n",
            "B2                                   325\n",
            "C2                                 42035\n",
            "TitlePomembnoSLO                      81\n",
            "ContentPomembnoSLO                  5597\n",
            "TitleNesreceSLO                      632\n",
            "ContentNesreceSLO                  23617\n",
            "TitleZastojiSLO                     1249\n",
            "ContentZastojiSLO                  33351\n",
            "TitleVremeSLO                       8950\n",
            "ContentVremeSLO                    17554\n",
            "TitleOvireSLO                       2371\n",
            "ContentOvireSLO                    31810\n",
            "TitleDeloNaCestiSLO                12530\n",
            "ContentDeloNaCestiSLO              51762\n",
            "TitleOpozorilaSLO                  15817\n",
            "ContentOpozorilaSLO                14465\n",
            "TitleMednarodneInformacijeSLO       8899\n",
            "ContentMednarodneInformacijeSLO    32403\n",
            "TitleSplosnoSLO                    41890\n",
            "ContentSplosnoSLO                  17324\n",
            "dtype: int64\n"
          ]
        }
      ],
      "source": [
        "# count non NaN values in each column\n",
        "print(len(sheet2022) - sheet2022.isnull().sum())"
      ]
    },
    {
      "cell_type": "code",
      "execution_count": null,
      "metadata": {
        "colab": {
          "base_uri": "https://localhost:8080/"
        },
        "id": "gvC3KQnBPuH9",
        "outputId": "19a75914-c4e3-415d-894d-d81dda311058"
      },
      "outputs": [
        {
          "name": "stdout",
          "output_type": "stream",
          "text": [
            "LegacyId                           57094\n",
            "Datum                              57094\n",
            "Operater                           57094\n",
            "A1                                  4828\n",
            "B1                                 57094\n",
            "C1                                     0\n",
            "A2                                     0\n",
            "B2                                 49213\n",
            "C2                                 57094\n",
            "TitlePomembnoSLO                      65\n",
            "ContentPomembnoSLO                  4828\n",
            "TitleNesreceSLO                      733\n",
            "ContentNesreceSLO                  25086\n",
            "TitleZastojiSLO                      115\n",
            "ContentZastojiSLO                  36264\n",
            "TitleVremeSLO                       8930\n",
            "ContentVremeSLO                    25221\n",
            "TitleOvireSLO                        783\n",
            "ContentOvireSLO                    34254\n",
            "TitleDeloNaCestiSLO                    3\n",
            "ContentDeloNaCestiSLO              57094\n",
            "TitleOpozorilaSLO                  26921\n",
            "ContentOpozorilaSLO                16692\n",
            "TitleMednarodneInformacijeSLO      39820\n",
            "ContentMednarodneInformacijeSLO     5770\n",
            "TitleSplosnoSLO                    51984\n",
            "ContentSplosnoSLO                  19166\n",
            "dtype: int64\n"
          ]
        }
      ],
      "source": [
        "# count non NaN values in each column\n",
        "print(len(sheet2023) - sheet2023.isnull().sum())"
      ]
    },
    {
      "cell_type": "code",
      "execution_count": null,
      "metadata": {
        "colab": {
          "base_uri": "https://localhost:8080/"
        },
        "id": "lCKaaRc5Px1n",
        "outputId": "5de27036-b5ac-42f2-9c66-9c5f48c3182b"
      },
      "outputs": [
        {
          "name": "stdout",
          "output_type": "stream",
          "text": [
            "LegacyId                           58278\n",
            "Datum                              58278\n",
            "Operater                           58278\n",
            "A1                                  3961\n",
            "B1                                 58278\n",
            "C1                                     0\n",
            "A2                                     0\n",
            "B2                                     0\n",
            "C2                                 58278\n",
            "TitlePomembnoSLO                       0\n",
            "ContentPomembnoSLO                  3961\n",
            "TitleNesreceSLO                        0\n",
            "ContentNesreceSLO                  26061\n",
            "TitleZastojiSLO                      341\n",
            "ContentZastojiSLO                  38833\n",
            "TitleVremeSLO                       1696\n",
            "ContentVremeSLO                    18227\n",
            "TitleOvireSLO                        190\n",
            "ContentOvireSLO                    36673\n",
            "TitleDeloNaCestiSLO                12291\n",
            "ContentDeloNaCestiSLO              58278\n",
            "TitleOpozorilaSLO                  21399\n",
            "ContentOpozorilaSLO                13883\n",
            "TitleMednarodneInformacijeSLO      33530\n",
            "ContentMednarodneInformacijeSLO     9172\n",
            "TitleSplosnoSLO                    53876\n",
            "ContentSplosnoSLO                  16719\n",
            "dtype: int64\n"
          ]
        }
      ],
      "source": [
        "# count non NaN values in each column\n",
        "print(len(sheet2024) - sheet2024.isnull().sum())"
      ]
    },
    {
      "cell_type": "code",
      "execution_count": null,
      "metadata": {},
      "outputs": [
        {
          "name": "stdout",
          "output_type": "stream",
          "text": [
            "       LegacyId               Datum                   Operater   A1   B1  C1  \\\n",
            "4155    1287671 2022-02-05 22:17:26  DARS Lidija Zobovnik, GNC  NaN  NaN NaN   \n",
            "15400   1318908 2022-04-27 20:48:36      DARS Tjaša Krmac, GNC  NaN  NaN NaN   \n",
            "31384   1334892 2022-07-27 21:57:14    DARS Igor Gregorc, GNC   NaN  NaN NaN   \n",
            "\n",
            "        A2   B2                                                 C2  \\\n",
            "4155   NaN  NaN                                                NaN   \n",
            "15400  NaN  NaN  <div><p>Buy vignette for Slovenia online</p><p...   \n",
            "31384  NaN  NaN  <p>Buy vignette for Slovenia online</p><p>Ther...   \n",
            "\n",
            "      TitlePomembnoSLO  ... TitleOvireSLO ContentOvireSLO TitleDeloNaCestiSLO  \\\n",
            "4155               NaN  ...           NaN             NaN                Dela   \n",
            "15400              NaN  ...           NaN             NaN                 NaN   \n",
            "31384              NaN  ...           NaN             NaN                 NaN   \n",
            "\n",
            "      ContentDeloNaCestiSLO TitleOpozorilaSLO ContentOpozorilaSLO  \\\n",
            "4155                    NaN               NaN                 NaN   \n",
            "15400                   NaN               NaN                 NaN   \n",
            "31384                   NaN    Tovorni promet                 NaN   \n",
            "\n",
            "      TitleMednarodneInformacijeSLO ContentMednarodneInformacijeSLO  \\\n",
            "4155                            NaN                             NaN   \n",
            "15400                           NaN                             NaN   \n",
            "31384                           NaN                             NaN   \n",
            "\n",
            "      TitleSplosnoSLO ContentSplosnoSLO  \n",
            "4155              NaN               NaN  \n",
            "15400             NaN               NaN  \n",
            "31384          Promet               NaN  \n",
            "\n",
            "[3 rows x 27 columns]\n"
          ]
        }
      ],
      "source": [
        "# show line in which B1 is NaN\n",
        "print(sheet2022[sheet2022['B1'].isnull()])"
      ]
    },
    {
      "cell_type": "code",
      "execution_count": null,
      "metadata": {},
      "outputs": [
        {
          "name": "stdout",
          "output_type": "stream",
          "text": [
            "Empty DataFrame\n",
            "Columns: [LegacyId, Datum, Operater, A1, B1, C1, A2, B2, C2, TitlePomembnoSLO, ContentPomembnoSLO, TitleNesreceSLO, ContentNesreceSLO, TitleZastojiSLO, ContentZastojiSLO, TitleVremeSLO, ContentVremeSLO, TitleOvireSLO, ContentOvireSLO, TitleDeloNaCestiSLO, ContentDeloNaCestiSLO, TitleOpozorilaSLO, ContentOpozorilaSLO, TitleMednarodneInformacijeSLO, ContentMednarodneInformacijeSLO, TitleSplosnoSLO, ContentSplosnoSLO]\n",
            "Index: []\n",
            "\n",
            "[0 rows x 27 columns]\n"
          ]
        }
      ],
      "source": [
        "print(sheet2023[sheet2023['B1'].isnull()])"
      ]
    },
    {
      "cell_type": "code",
      "execution_count": null,
      "metadata": {},
      "outputs": [
        {
          "name": "stdout",
          "output_type": "stream",
          "text": [
            "Empty DataFrame\n",
            "Columns: [LegacyId, Datum, Operater, A1, B1, C1, A2, B2, C2, TitlePomembnoSLO, ContentPomembnoSLO, TitleNesreceSLO, ContentNesreceSLO, TitleZastojiSLO, ContentZastojiSLO, TitleVremeSLO, ContentVremeSLO, TitleOvireSLO, ContentOvireSLO, TitleDeloNaCestiSLO, ContentDeloNaCestiSLO, TitleOpozorilaSLO, ContentOpozorilaSLO, TitleMednarodneInformacijeSLO, ContentMednarodneInformacijeSLO, TitleSplosnoSLO, ContentSplosnoSLO]\n",
            "Index: []\n",
            "\n",
            "[0 rows x 27 columns]\n"
          ]
        }
      ],
      "source": [
        "print(sheet2024[sheet2024['B1'].isnull()])"
      ]
    },
    {
      "cell_type": "code",
      "execution_count": null,
      "metadata": {},
      "outputs": [
        {
          "name": "stdout",
          "output_type": "stream",
          "text": [
            "       LegacyId               Datum                   Operater  \\\n",
            "4469    1287985 2022-02-08 10:02:14      DARS Janja Budič, PIC   \n",
            "16187   1319695 2022-05-03 11:10:53  DARS Barbara Janežič, PIC   \n",
            "\n",
            "                                                      A1  \\\n",
            "4469                                                 NaN   \n",
            "16187  <p><strong>Pozor!</strong></p><p><strong>Štaje...   \n",
            "\n",
            "                                                      B1  C1  \\\n",
            "4469   <p><strong>Nesreče</strong></p><p>Na primorski... NaN   \n",
            "16187  <p><strong>Ovire</strong></p><p>Na razcepu Sli... NaN   \n",
            "\n",
            "                                                      A2   B2  \\\n",
            "4469   <p>8th February Prešeren's Day - Day of Sloven...  NaN   \n",
            "16187  <p><strong>Motorwvay A1, Maribor - Ljubljana i...  NaN   \n",
            "\n",
            "                                                      C2 TitlePomembnoSLO  \\\n",
            "4469                                                 NaN              NaN   \n",
            "16187  <div><div><p>Buy vignette for Slovenia online<...              NaN   \n",
            "\n",
            "       ... TitleOvireSLO                                    ContentOvireSLO  \\\n",
            "4469   ...           NaN                                                NaN   \n",
            "16187  ...           NaN  <p>Na razcepu Slivnica je na nadvozu iz smeri ...   \n",
            "\n",
            "      TitleDeloNaCestiSLO                              ContentDeloNaCestiSLO  \\\n",
            "4469                 Dela  <p>Na gorenjski avtocesti bo v predoru Karavan...   \n",
            "16187                 NaN  <p>Do 6. maja bo ponoči, med 20. in 5. uro, pr...   \n",
            "\n",
            "      TitleOpozorilaSLO ContentOpozorilaSLO TitleMednarodneInformacijeSLO  \\\n",
            "4469              Vreme                 NaN                           NaN   \n",
            "16187               NaN                 NaN                           NaN   \n",
            "\n",
            "                         ContentMednarodneInformacijeSLO TitleSplosnoSLO  \\\n",
            "4469   <p>Čakalna doba je na mejnem prehodu Gruškovje...  Tovorni promet   \n",
            "16187  <p>Čakalna doba je na mejnih prehodih: Metlika...  Tovorni promet   \n",
            "\n",
            "                                       ContentSplosnoSLO  \n",
            "4469   <p>Danes, do 22. ure velja zaradi praznika pre...  \n",
            "16187                                                NaN  \n",
            "\n",
            "[2 rows x 27 columns]\n"
          ]
        }
      ],
      "source": [
        "# print non NaN values in column A2\n",
        "# print(sheet2022[sheet2022['A2'].notnull()]['A2'])\n",
        "print(sheet2022[sheet2022['A2'].notnull()])"
      ]
    },
    {
      "cell_type": "code",
      "execution_count": null,
      "metadata": {
        "colab": {
          "base_uri": "https://localhost:8080/"
        },
        "id": "SLnCKdnMQy5m",
        "outputId": "8a09abe0-2e00-4c11-ae87-ea94ecccad98"
      },
      "outputs": [
        {
          "name": "stdout",
          "output_type": "stream",
          "text": [
            "   LegacyId               Datum               Operater ContentPomembnoSLO  \\\n",
            "0   1283516 2022-01-01 00:07:07  DARS Tjaša Krmac, GNC                NaN   \n",
            "1   1283517 2022-01-01 00:07:29  DARS Tjaša Krmac, GNC                NaN   \n",
            "2   1283518 2022-01-01 00:07:30  DARS Tjaša Krmac, GNC                NaN   \n",
            "3   1283519 2022-01-01 00:07:36  DARS Tjaša Krmac, GNC                NaN   \n",
            "4   1283520 2022-01-01 00:16:26  DARS Tjaša Krmac, GNC                NaN   \n",
            "\n",
            "  ContentNesreceSLO ContentZastojiSLO  \\\n",
            "0               NaN               NaN   \n",
            "1               NaN               NaN   \n",
            "2               NaN               NaN   \n",
            "3               NaN               NaN   \n",
            "4               NaN               NaN   \n",
            "\n",
            "                                     ContentVremeSLO ContentOvireSLO  \\\n",
            "0  <p>Ponekod po Sloveniji megla v pasovih zmanjš...             NaN   \n",
            "1  <p>Ponekod po Sloveniji megla v pasovih zmanjš...             NaN   \n",
            "2  <p>Ponekod po Sloveniji megla v pasovih zmanjš...             NaN   \n",
            "3  <p>Ponekod po Sloveniji megla v pasovih zmanjš...             NaN   \n",
            "4  <p>Ponekod po Sloveniji megla v pasovih zmanjš...             NaN   \n",
            "\n",
            "                               ContentDeloNaCestiSLO  \\\n",
            "0  <p>Na primorski avtocesti je ponovno odprt pri...   \n",
            "1  <p>Na primorski avtocesti je ponovno odprt pri...   \n",
            "2  <p>Na primorski avtocesti je ponovno odprt pri...   \n",
            "3  <p>Na primorski avtocesti je ponovno odprt pri...   \n",
            "4  <p>Na primorski avtocesti je ponovno odprt pri...   \n",
            "\n",
            "                                 ContentOpozorilaSLO  \\\n",
            "0  <p>Po Sloveniji velja med prazniki omejitev za...   \n",
            "1  <p>Po Sloveniji velja med prazniki omejitev za...   \n",
            "2  <p>Po Sloveniji velja med prazniki omejitev za...   \n",
            "3  <p>Po Sloveniji velja med prazniki omejitev za...   \n",
            "4  <p>Po Sloveniji velja med prazniki omejitev za...   \n",
            "\n",
            "  ContentMednarodneInformacijeSLO ContentSplosnoSLO  \n",
            "0                             NaN               NaN  \n",
            "1                             NaN               NaN  \n",
            "2                             NaN               NaN  \n",
            "3                             NaN               NaN  \n",
            "4                             NaN               NaN  \n"
          ]
        }
      ],
      "source": [
        "def filter_columns(df):\n",
        "    cols_to_keep = ['LegacyId', 'Datum', 'Operater'] + [col for col in df.columns if col.startswith('Content')]\n",
        "    return df[cols_to_keep]\n",
        "\n",
        "# Apply to each year\n",
        "sheet2022_filtered = filter_columns(sheets_dict['2022'])\n",
        "sheet2023_filtered = filter_columns(sheets_dict['2023'])\n",
        "sheet2024_filtered = filter_columns(sheets_dict['2024'])\n",
        "\n",
        "# Example: preview the result\n",
        "print(sheet2022_filtered.head())"
      ]
    }
  ],
  "metadata": {
    "accelerator": "GPU",
    "colab": {
      "gpuType": "T4",
      "provenance": []
    },
    "kernelspec": {
      "display_name": ".venv",
      "language": "python",
      "name": "python3"
    },
    "language_info": {
      "codemirror_mode": {
        "name": "ipython",
        "version": 3
      },
      "file_extension": ".py",
      "mimetype": "text/x-python",
      "name": "python",
      "nbconvert_exporter": "python",
      "pygments_lexer": "ipython3",
      "version": "3.11.0rc1"
    },
    "widgets": {
      "application/vnd.jupyter.widget-state+json": {
        "10a2af0f15f04b4bbb8290b0b23dd0fe": {
          "model_module": "@jupyter-widgets/controls",
          "model_module_version": "1.5.0",
          "model_name": "HTMLModel",
          "state": {
            "_dom_classes": [],
            "_model_module": "@jupyter-widgets/controls",
            "_model_module_version": "1.5.0",
            "_model_name": "HTMLModel",
            "_view_count": null,
            "_view_module": "@jupyter-widgets/controls",
            "_view_module_version": "1.5.0",
            "_view_name": "HTMLView",
            "description": "",
            "description_tooltip": null,
            "layout": "IPY_MODEL_f61df4031f0647f888d59ed6f6bd5980",
            "placeholder": "​",
            "style": "IPY_MODEL_add6173bd04643a7b14c4ec605ca6e05",
            "value": "Loading checkpoint shards: 100%"
          }
        },
        "3ec7b1590a2b4eb28bc0c3a2f77d2e41": {
          "model_module": "@jupyter-widgets/controls",
          "model_module_version": "1.5.0",
          "model_name": "ProgressStyleModel",
          "state": {
            "_model_module": "@jupyter-widgets/controls",
            "_model_module_version": "1.5.0",
            "_model_name": "ProgressStyleModel",
            "_view_count": null,
            "_view_module": "@jupyter-widgets/base",
            "_view_module_version": "1.2.0",
            "_view_name": "StyleView",
            "bar_color": null,
            "description_width": ""
          }
        },
        "486526d41aea482a8c26583b2cbd4f7f": {
          "model_module": "@jupyter-widgets/controls",
          "model_module_version": "1.5.0",
          "model_name": "HBoxModel",
          "state": {
            "_dom_classes": [],
            "_model_module": "@jupyter-widgets/controls",
            "_model_module_version": "1.5.0",
            "_model_name": "HBoxModel",
            "_view_count": null,
            "_view_module": "@jupyter-widgets/controls",
            "_view_module_version": "1.5.0",
            "_view_name": "HBoxView",
            "box_style": "",
            "children": [
              "IPY_MODEL_10a2af0f15f04b4bbb8290b0b23dd0fe",
              "IPY_MODEL_6cf4e1b127ed4691adc72b1325ecfca7",
              "IPY_MODEL_d7d11d2cc4b64ce28b2ea6c64eea09c7"
            ],
            "layout": "IPY_MODEL_c77a67a5c24640a3b4786ae044bc8dd1"
          }
        },
        "6cf4e1b127ed4691adc72b1325ecfca7": {
          "model_module": "@jupyter-widgets/controls",
          "model_module_version": "1.5.0",
          "model_name": "FloatProgressModel",
          "state": {
            "_dom_classes": [],
            "_model_module": "@jupyter-widgets/controls",
            "_model_module_version": "1.5.0",
            "_model_name": "FloatProgressModel",
            "_view_count": null,
            "_view_module": "@jupyter-widgets/controls",
            "_view_module_version": "1.5.0",
            "_view_name": "ProgressView",
            "bar_style": "success",
            "description": "",
            "description_tooltip": null,
            "layout": "IPY_MODEL_976b3c1ae91d40fcbb9432612d1214e1",
            "max": 2,
            "min": 0,
            "orientation": "horizontal",
            "style": "IPY_MODEL_3ec7b1590a2b4eb28bc0c3a2f77d2e41",
            "value": 2
          }
        },
        "976b3c1ae91d40fcbb9432612d1214e1": {
          "model_module": "@jupyter-widgets/base",
          "model_module_version": "1.2.0",
          "model_name": "LayoutModel",
          "state": {
            "_model_module": "@jupyter-widgets/base",
            "_model_module_version": "1.2.0",
            "_model_name": "LayoutModel",
            "_view_count": null,
            "_view_module": "@jupyter-widgets/base",
            "_view_module_version": "1.2.0",
            "_view_name": "LayoutView",
            "align_content": null,
            "align_items": null,
            "align_self": null,
            "border": null,
            "bottom": null,
            "display": null,
            "flex": null,
            "flex_flow": null,
            "grid_area": null,
            "grid_auto_columns": null,
            "grid_auto_flow": null,
            "grid_auto_rows": null,
            "grid_column": null,
            "grid_gap": null,
            "grid_row": null,
            "grid_template_areas": null,
            "grid_template_columns": null,
            "grid_template_rows": null,
            "height": null,
            "justify_content": null,
            "justify_items": null,
            "left": null,
            "margin": null,
            "max_height": null,
            "max_width": null,
            "min_height": null,
            "min_width": null,
            "object_fit": null,
            "object_position": null,
            "order": null,
            "overflow": null,
            "overflow_x": null,
            "overflow_y": null,
            "padding": null,
            "right": null,
            "top": null,
            "visibility": null,
            "width": null
          }
        },
        "add6173bd04643a7b14c4ec605ca6e05": {
          "model_module": "@jupyter-widgets/controls",
          "model_module_version": "1.5.0",
          "model_name": "DescriptionStyleModel",
          "state": {
            "_model_module": "@jupyter-widgets/controls",
            "_model_module_version": "1.5.0",
            "_model_name": "DescriptionStyleModel",
            "_view_count": null,
            "_view_module": "@jupyter-widgets/base",
            "_view_module_version": "1.2.0",
            "_view_name": "StyleView",
            "description_width": ""
          }
        },
        "c77a67a5c24640a3b4786ae044bc8dd1": {
          "model_module": "@jupyter-widgets/base",
          "model_module_version": "1.2.0",
          "model_name": "LayoutModel",
          "state": {
            "_model_module": "@jupyter-widgets/base",
            "_model_module_version": "1.2.0",
            "_model_name": "LayoutModel",
            "_view_count": null,
            "_view_module": "@jupyter-widgets/base",
            "_view_module_version": "1.2.0",
            "_view_name": "LayoutView",
            "align_content": null,
            "align_items": null,
            "align_self": null,
            "border": null,
            "bottom": null,
            "display": null,
            "flex": null,
            "flex_flow": null,
            "grid_area": null,
            "grid_auto_columns": null,
            "grid_auto_flow": null,
            "grid_auto_rows": null,
            "grid_column": null,
            "grid_gap": null,
            "grid_row": null,
            "grid_template_areas": null,
            "grid_template_columns": null,
            "grid_template_rows": null,
            "height": null,
            "justify_content": null,
            "justify_items": null,
            "left": null,
            "margin": null,
            "max_height": null,
            "max_width": null,
            "min_height": null,
            "min_width": null,
            "object_fit": null,
            "object_position": null,
            "order": null,
            "overflow": null,
            "overflow_x": null,
            "overflow_y": null,
            "padding": null,
            "right": null,
            "top": null,
            "visibility": null,
            "width": null
          }
        },
        "cd81fdde50384836973ed9903ab5e389": {
          "model_module": "@jupyter-widgets/controls",
          "model_module_version": "1.5.0",
          "model_name": "DescriptionStyleModel",
          "state": {
            "_model_module": "@jupyter-widgets/controls",
            "_model_module_version": "1.5.0",
            "_model_name": "DescriptionStyleModel",
            "_view_count": null,
            "_view_module": "@jupyter-widgets/base",
            "_view_module_version": "1.2.0",
            "_view_name": "StyleView",
            "description_width": ""
          }
        },
        "d5d78a10ae19469e8934f1869e8afe6c": {
          "model_module": "@jupyter-widgets/base",
          "model_module_version": "1.2.0",
          "model_name": "LayoutModel",
          "state": {
            "_model_module": "@jupyter-widgets/base",
            "_model_module_version": "1.2.0",
            "_model_name": "LayoutModel",
            "_view_count": null,
            "_view_module": "@jupyter-widgets/base",
            "_view_module_version": "1.2.0",
            "_view_name": "LayoutView",
            "align_content": null,
            "align_items": null,
            "align_self": null,
            "border": null,
            "bottom": null,
            "display": null,
            "flex": null,
            "flex_flow": null,
            "grid_area": null,
            "grid_auto_columns": null,
            "grid_auto_flow": null,
            "grid_auto_rows": null,
            "grid_column": null,
            "grid_gap": null,
            "grid_row": null,
            "grid_template_areas": null,
            "grid_template_columns": null,
            "grid_template_rows": null,
            "height": null,
            "justify_content": null,
            "justify_items": null,
            "left": null,
            "margin": null,
            "max_height": null,
            "max_width": null,
            "min_height": null,
            "min_width": null,
            "object_fit": null,
            "object_position": null,
            "order": null,
            "overflow": null,
            "overflow_x": null,
            "overflow_y": null,
            "padding": null,
            "right": null,
            "top": null,
            "visibility": null,
            "width": null
          }
        },
        "d7d11d2cc4b64ce28b2ea6c64eea09c7": {
          "model_module": "@jupyter-widgets/controls",
          "model_module_version": "1.5.0",
          "model_name": "HTMLModel",
          "state": {
            "_dom_classes": [],
            "_model_module": "@jupyter-widgets/controls",
            "_model_module_version": "1.5.0",
            "_model_name": "HTMLModel",
            "_view_count": null,
            "_view_module": "@jupyter-widgets/controls",
            "_view_module_version": "1.5.0",
            "_view_name": "HTMLView",
            "description": "",
            "description_tooltip": null,
            "layout": "IPY_MODEL_d5d78a10ae19469e8934f1869e8afe6c",
            "placeholder": "​",
            "style": "IPY_MODEL_cd81fdde50384836973ed9903ab5e389",
            "value": " 2/2 [00:27&lt;00:00, 15.22s/it]"
          }
        },
        "f61df4031f0647f888d59ed6f6bd5980": {
          "model_module": "@jupyter-widgets/base",
          "model_module_version": "1.2.0",
          "model_name": "LayoutModel",
          "state": {
            "_model_module": "@jupyter-widgets/base",
            "_model_module_version": "1.2.0",
            "_model_name": "LayoutModel",
            "_view_count": null,
            "_view_module": "@jupyter-widgets/base",
            "_view_module_version": "1.2.0",
            "_view_name": "LayoutView",
            "align_content": null,
            "align_items": null,
            "align_self": null,
            "border": null,
            "bottom": null,
            "display": null,
            "flex": null,
            "flex_flow": null,
            "grid_area": null,
            "grid_auto_columns": null,
            "grid_auto_flow": null,
            "grid_auto_rows": null,
            "grid_column": null,
            "grid_gap": null,
            "grid_row": null,
            "grid_template_areas": null,
            "grid_template_columns": null,
            "grid_template_rows": null,
            "height": null,
            "justify_content": null,
            "justify_items": null,
            "left": null,
            "margin": null,
            "max_height": null,
            "max_width": null,
            "min_height": null,
            "min_width": null,
            "object_fit": null,
            "object_position": null,
            "order": null,
            "overflow": null,
            "overflow_x": null,
            "overflow_y": null,
            "padding": null,
            "right": null,
            "top": null,
            "visibility": null,
            "width": null
          }
        }
      }
    }
  },
  "nbformat": 4,
  "nbformat_minor": 0
}
