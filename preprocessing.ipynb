{
 "cells": [
  {
   "cell_type": "code",
   "execution_count": 22,
   "id": "7e4c1c0f",
   "metadata": {},
   "outputs": [],
   "source": [
    "import pandas as pd\n",
    "import re\n",
    "\n",
    "# Load the Excel file\n",
    "file_path = './RTVSlo/Podatki - PrometnoPorocilo_2022_2023_2024.xlsx'\n",
    "data = pd.read_excel(file_path)\n",
    "\n",
    "# Limit to the first 100 rows\n",
    "data = data.head(10000)\n",
    "\n",
    "# Function to remove HTML tags\n",
    "def remove_html_tags(text):\n",
    "    if isinstance(text, str):\n",
    "        return re.sub(r'<[^>]*>', '', text)\n",
    "    return text\n",
    "\n",
    "# Process the data\n",
    "processed_data = []\n",
    "for index, row in data.iterrows():\n",
    "    item = {}\n",
    "    for column in data.columns:\n",
    "        value = row[column]\n",
    "        if pd.notna(value):  # Check if the cell is not empty\n",
    "            item[column] = remove_html_tags(value)\n",
    "    processed_data.append(item)\n",
    "\n",
    "# Convert the processed data into a DataFrame\n",
    "processed_df = pd.DataFrame(processed_data)\n",
    "\n",
    "# Remove 'LegacyId' and 'Operater' columns if they exist\n",
    "columns_to_remove = ['LegacyId', 'Operater']\n",
    "processed_df = processed_df.drop(columns=[col for col in columns_to_remove if col in processed_df.columns])\n",
    "\n",
    "# Save the processed data to a new Excel file (optional)\n",
    "# processed_df.to_excel('./RTVSlo/Processed_Data_First_10000.xlsx', index=False)\n",
    "\n",
    "processed_df.to_csv('./RTVSlo/Processed_Data_First_10000.csv', index=False)\n"
   ]
  },
  {
   "cell_type": "code",
   "execution_count": 23,
   "id": "17a77335",
   "metadata": {},
   "outputs": [
    {
     "data": {
      "text/plain": [
       "55001"
      ]
     },
     "execution_count": 23,
     "metadata": {},
     "output_type": "execute_result"
    }
   ],
   "source": [
    "# Importing pandas to check the number of rows in the file\n",
    "import pandas as pd\n",
    "\n",
    "# Load the Excel file\n",
    "file_path = './RTVSlo/Podatki - PrometnoPorocilo_2022_2023_2024.xlsx'\n",
    "data = pd.read_excel(file_path)\n",
    "\n",
    "# Get the number of rows in the dataset\n",
    "num_rows = data.shape[0]\n",
    "num_rows\n"
   ]
  },
  {
   "cell_type": "code",
   "execution_count": 27,
   "id": "ed25949c",
   "metadata": {},
   "outputs": [
    {
     "name": "stdout",
     "output_type": "stream",
     "text": [
      "Processed data has been saved to ./RTVSlo/Processed_Data_First_10000_non_nan.json\n"
     ]
    }
   ],
   "source": [
    "import pandas as pd\n",
    "import json\n",
    "\n",
    "# Load the CSV file\n",
    "file_path = './RTVSlo/Processed_Data_First_10000.csv'  # Adjust path if necessary\n",
    "data = pd.read_csv(file_path)\n",
    "\n",
    "# Set pandas options to prevent truncation of long text\n",
    "pd.set_option('display.max_colwidth', None)  # This ensures that columns with long text are fully shown\n",
    "\n",
    "# Initialize a list to store the processed rows\n",
    "processed_data = []\n",
    "\n",
    "# Iterate through each row in the DataFrame\n",
    "for index, row in data.iterrows():\n",
    "    row_dict = {}  # Dictionary to store non-NaN columns for the current row\n",
    "    \n",
    "    # Iterate through each column and check if it's not NaN\n",
    "    for column, content in row.items():\n",
    "        if pd.notna(content):  # Check if the content is not NaN\n",
    "            row_dict[column] = content\n",
    "    \n",
    "    # Add the row dictionary to the processed data if it has any non-NaN values\n",
    "    if row_dict:\n",
    "        processed_data.append(row_dict)\n",
    "\n",
    "# Save the processed data to a JSON file\n",
    "json_file_path = './RTVSlo/Processed_Data_First_10000_non_nan.json'\n",
    "with open(json_file_path, 'w', encoding='utf-8') as f:\n",
    "    json.dump(processed_data, f, ensure_ascii=False, indent=4)\n",
    "\n",
    "# Print confirmation message\n",
    "print(f\"Processed data has been saved to {json_file_path}\")\n"
   ]
  },
  {
   "cell_type": "code",
   "execution_count": 26,
   "id": "9a2aee7f",
   "metadata": {},
   "outputs": [
    {
     "name": "stdout",
     "output_type": "stream",
     "text": [
      "Datum: 10000  values\n",
      "B1: 9999  values\n",
      "ContentVremeSLO: 4771  values\n",
      "TitleDeloNaCestiSLO: 9781  values\n",
      "ContentDeloNaCestiSLO: 8478  values\n",
      "TitleOpozorilaSLO: 4011  values\n",
      "ContentOpozorilaSLO: 1490  values\n",
      "ContentNesreceSLO: 3028  values\n",
      "A1: 686  values\n",
      "ContentPomembnoSLO: 686  values\n",
      "ContentOvireSLO: 5303  values\n",
      "ContentMednarodneInformacijeSLO: 6110  values\n",
      "ContentZastojiSLO: 3520  values\n",
      "TitleOvireSLO: 765  values\n",
      "TitleSplosnoSLO: 4824  values\n",
      "ContentSplosnoSLO: 3007  values\n",
      "TitleVremeSLO: 3608  values\n",
      "TitleZastojiSLO: 520  values\n",
      "A2: 1  values\n",
      "C2: 162  values\n",
      "TitleNesreceSLO: 604  values\n"
     ]
    }
   ],
   "source": [
    "\n",
    "# Count the number of non-NaN values in each column\n",
    "non_nan_counts = data.notna().sum()\n",
    "\n",
    "# Print the counts for each column\n",
    "for column, count in non_nan_counts.items():\n",
    "    print(f\"{column}: {count}  values\")"
   ]
  }
 ],
 "metadata": {
  "kernelspec": {
   "display_name": "Python 3",
   "language": "python",
   "name": "python3"
  },
  "language_info": {
   "codemirror_mode": {
    "name": "ipython",
    "version": 3
   },
   "file_extension": ".py",
   "mimetype": "text/x-python",
   "name": "python",
   "nbconvert_exporter": "python",
   "pygments_lexer": "ipython3",
   "version": "3.10.0"
  }
 },
 "nbformat": 4,
 "nbformat_minor": 5
}
